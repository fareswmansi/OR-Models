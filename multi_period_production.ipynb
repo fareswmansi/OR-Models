{
 "cells": [
  {
   "cell_type": "code",
   "execution_count": 9,
   "id": "initial_id",
   "metadata": {
    "collapsed": true,
    "ExecuteTime": {
     "end_time": "2024-03-03T23:21:30.255594Z",
     "start_time": "2024-03-03T23:21:28.001602Z"
    }
   },
   "outputs": [
    {
     "name": "stdout",
     "output_type": "stream",
     "text": [
      "Requirement already satisfied: optlang in /Users/faresmansi/anaconda3/lib/python3.11/site-packages (1.8.1)\r\n",
      "Requirement already satisfied: six>=1.9 in /Users/faresmansi/anaconda3/lib/python3.11/site-packages (from optlang) (1.16.0)\r\n",
      "Requirement already satisfied: swiglpk>=5.0.8 in /Users/faresmansi/anaconda3/lib/python3.11/site-packages (from optlang) (5.0.10)\r\n",
      "Requirement already satisfied: sympy>=1.12.0 in /Users/faresmansi/anaconda3/lib/python3.11/site-packages (from optlang) (1.12)\r\n",
      "Requirement already satisfied: mpmath>=0.19 in /Users/faresmansi/anaconda3/lib/python3.11/site-packages (from sympy>=1.12.0->optlang) (1.2.1)\r\n",
      "Note: you may need to restart the kernel to use updated packages.\n"
     ]
    }
   ],
   "source": [
    "%pip install optlang\n",
    "from optlang import Model, Variable, Constraint, Objective\n",
    "import pandas as pd"
   ]
  },
  {
   "cell_type": "markdown",
   "source": [
    "## A Multi-Period Production Model"
   ],
   "metadata": {
    "collapsed": false
   },
   "id": "5fd6c7f09ca00fd7"
  },
  {
   "cell_type": "code",
   "outputs": [],
   "source": [
    "#creating indexes\n",
    "T = 4\n",
    "products = [\"bands\", \"coils\"]\n",
    "availability = [40, 40, 32, 40]\n",
    "time = range(1, T+1)\n",
    "#starts at t=0\n",
    "inv_time = range(0, T+1)\n",
    "\n",
    "#storing data in dictionaries\n",
    "inv_0 = {\n",
    "    \"bands\": 10, \n",
    "    \"coils\": 0\n",
    "}\n",
    "revenue = {\n",
    "    \"bands\": [25, 26, 27, 27],\n",
    "    \"coils\": [30, 35, 37, 39]\n",
    "}\n",
    "market = {\n",
    "    \"bands\": [6000, 6000, 4000, 6500],\n",
    "    \"coils\": [4000, 2500, 3500, 4200]\n",
    "}\n",
    "prod_cost = {\n",
    "    \"bands\": 10,\n",
    "    \"coils\": 11\n",
    "}\n",
    "prod_rate = {\n",
    "    \"bands\": 200,\n",
    "    \"coils\": 140\n",
    "}\n",
    "prod_inv_cost = {\n",
    "    \"bands\": 2.5,\n",
    "    \"coils\": 3\n",
    "}"
   ],
   "metadata": {
    "collapsed": false,
    "ExecuteTime": {
     "end_time": "2024-03-03T23:21:30.259297Z",
     "start_time": "2024-03-03T23:21:30.254809Z"
    }
   },
   "id": "909e9abdde58e056",
   "execution_count": 10
  },
  {
   "cell_type": "code",
   "outputs": [
    {
     "name": "stdout",
     "output_type": "stream",
     "text": [
      "revenue data frame:\n"
     ]
    },
    {
     "data": {
      "text/plain": "   bands  coils\n1     25     30\n2     26     35\n3     27     37\n4     27     39",
      "text/html": "<div>\n<style scoped>\n    .dataframe tbody tr th:only-of-type {\n        vertical-align: middle;\n    }\n\n    .dataframe tbody tr th {\n        vertical-align: top;\n    }\n\n    .dataframe thead th {\n        text-align: right;\n    }\n</style>\n<table border=\"1\" class=\"dataframe\">\n  <thead>\n    <tr style=\"text-align: right;\">\n      <th></th>\n      <th>bands</th>\n      <th>coils</th>\n    </tr>\n  </thead>\n  <tbody>\n    <tr>\n      <th>1</th>\n      <td>25</td>\n      <td>30</td>\n    </tr>\n    <tr>\n      <th>2</th>\n      <td>26</td>\n      <td>35</td>\n    </tr>\n    <tr>\n      <th>3</th>\n      <td>27</td>\n      <td>37</td>\n    </tr>\n    <tr>\n      <th>4</th>\n      <td>27</td>\n      <td>39</td>\n    </tr>\n  </tbody>\n</table>\n</div>"
     },
     "execution_count": 11,
     "metadata": {},
     "output_type": "execute_result"
    }
   ],
   "source": [
    "#creating data frames\n",
    "df_revenue = pd.DataFrame(revenue, index=time)\n",
    "df_market = pd.DataFrame(market, index=time)\n",
    "df_prod_cost = pd.DataFrame(prod_cost, index=products)\n",
    "df_prod_rate = pd.DataFrame(prod_rate, index=products)\n",
    "df_prod_inv_cost = pd.DataFrame(prod_inv_cost, index=products)\n",
    "\n",
    "print(\"revenue data frame:\")\n",
    "df_revenue"
   ],
   "metadata": {
    "collapsed": false,
    "ExecuteTime": {
     "end_time": "2024-03-03T23:21:30.267578Z",
     "start_time": "2024-03-03T23:21:30.264919Z"
    }
   },
   "id": "20eb6d004482e930",
   "execution_count": 11
  },
  {
   "cell_type": "code",
   "outputs": [
    {
     "name": "stdout",
     "output_type": "stream",
     "text": [
      "market data frame:\n"
     ]
    },
    {
     "data": {
      "text/plain": "   bands  coils\n1   6000   4000\n2   6000   2500\n3   4000   3500\n4   6500   4200",
      "text/html": "<div>\n<style scoped>\n    .dataframe tbody tr th:only-of-type {\n        vertical-align: middle;\n    }\n\n    .dataframe tbody tr th {\n        vertical-align: top;\n    }\n\n    .dataframe thead th {\n        text-align: right;\n    }\n</style>\n<table border=\"1\" class=\"dataframe\">\n  <thead>\n    <tr style=\"text-align: right;\">\n      <th></th>\n      <th>bands</th>\n      <th>coils</th>\n    </tr>\n  </thead>\n  <tbody>\n    <tr>\n      <th>1</th>\n      <td>6000</td>\n      <td>4000</td>\n    </tr>\n    <tr>\n      <th>2</th>\n      <td>6000</td>\n      <td>2500</td>\n    </tr>\n    <tr>\n      <th>3</th>\n      <td>4000</td>\n      <td>3500</td>\n    </tr>\n    <tr>\n      <th>4</th>\n      <td>6500</td>\n      <td>4200</td>\n    </tr>\n  </tbody>\n</table>\n</div>"
     },
     "execution_count": 12,
     "metadata": {},
     "output_type": "execute_result"
    }
   ],
   "source": [
    "print(\"market data frame:\")\n",
    "df_market"
   ],
   "metadata": {
    "collapsed": false,
    "ExecuteTime": {
     "end_time": "2024-03-03T23:21:30.273121Z",
     "start_time": "2024-03-03T23:21:30.269047Z"
    }
   },
   "id": "fba56b8241e7df5a",
   "execution_count": 12
  },
  {
   "cell_type": "code",
   "outputs": [],
   "source": [
    "#creating variables in dictionaries\n",
    "#specific product manufactured in specific time \n",
    "prod_made = {}\n",
    "for i in time:\n",
    "    prod_made[i] = [Variable(name=f\"{product}_made_in_{i}\", lb = 0, type='integer') for product in products]\n",
    "\n",
    "#specific product sold at specific time\n",
    "prod_sold = {}\n",
    "for i in time:\n",
    "    prod_sold[i] = [Variable(name=f\"{product}_sold_in_{i}\", lb = 0, ub=df_market.loc[i][product],type='integer') for product in products]\n",
    "\n",
    "#specific product inventoried at specific time\n",
    "prod_inventory = {}\n",
    "for i in inv_time:\n",
    "    prod_inventory[i] = [Variable(name=f\"{product}_in_inventory_{i}\", lb=0, type='integer') for product in products]\n",
    "\n",
    "#converting dictionaries to dataframes\n",
    "df_prod_made = pd.DataFrame(prod_made, index=products)\n",
    "df_prod_sold = pd.DataFrame(prod_sold, index=products)\n",
    "df_prod_inventory = pd.DataFrame(prod_inventory, index=products)"
   ],
   "metadata": {
    "collapsed": false,
    "ExecuteTime": {
     "end_time": "2024-03-03T23:21:31.122929Z",
     "start_time": "2024-03-03T23:21:31.115203Z"
    }
   },
   "id": "dd33ea650a0c5715",
   "execution_count": 13
  },
  {
   "cell_type": "code",
   "outputs": [],
   "source": [
    "#making constraints\n",
    "constraints = []\n",
    "\n",
    "#time constraint\n",
    "constraints.append(list(Constraint(\n",
    "    expression = sum((1/df_prod_rate.loc[product][product])*df_prod_made.loc[product][i] for product in products), \n",
    "    name=f\"time_constraint_for_time_{i}\",\n",
    "    ub = availability[i-1]\n",
    ") for i in time))\n",
    "\n",
    "#initial inventory constraints\n",
    "constraints.append(list(Constraint(\n",
    "    expression=df_prod_inventory.loc[product][0],\n",
    "    name = f\"initial_inventory_constraint_for_product_{product}\",\n",
    "    ub=inv_0[product], lb =inv_0[product]\n",
    ") for product in products))\n",
    "\n",
    "#balance constraint\n",
    "constraints.append(list(Constraint(\n",
    "    expression=df_prod_made.loc[product][i] + df_prod_inventory.loc[product][i-1] - df_prod_sold.loc[product][i] - df_prod_inventory.loc[product][i], name=f\"balance_constraint_for_time_{i}_product_{product}\",\n",
    "     ub = 0, lb = 0\n",
    ") for i in time for product in products))"
   ],
   "metadata": {
    "collapsed": false,
    "ExecuteTime": {
     "end_time": "2024-03-03T23:21:31.525627Z",
     "start_time": "2024-03-03T23:21:31.523141Z"
    }
   },
   "id": "7fdf681590c72080",
   "execution_count": 14
  },
  {
   "cell_type": "code",
   "outputs": [],
   "source": [
    "#creating objective function\n",
    "objective = sum(df_revenue.loc[i][product]*df_prod_sold.loc[product][i] - df_prod_cost.loc[product][product]*df_prod_made.loc[product][i] - df_prod_inv_cost[product][product]*df_prod_inventory.loc[product][i] for product in products for i in time)\n",
    "\n",
    "#creating model, adding obj and constraints and optimizing\n",
    "model = Model(name=\"multi_period_production\")\n",
    "model.add(constraints)\n",
    "model.objective = Objective(expression= objective, direction='max')\n",
    "status = model.optimize()"
   ],
   "metadata": {
    "collapsed": false,
    "ExecuteTime": {
     "end_time": "2024-03-03T23:22:42.506102Z",
     "start_time": "2024-03-03T23:22:42.503544Z"
    }
   },
   "id": "295111f2834cc1aa",
   "execution_count": 21
  },
  {
   "cell_type": "code",
   "outputs": [
    {
     "name": "stdout",
     "output_type": "stream",
     "text": [
      "Model: multi_period_production\n",
      "Status: optimal\n",
      "Objective value: $515033.0\n",
      "\n",
      "non-zero variables:\n",
      "\n",
      "bands_made_in_1: 5990.0 units\n",
      "coils_made_in_1: 1407.0 units\n",
      "bands_made_in_2: 6000.0 units\n",
      "coils_made_in_2: 1400.0 units\n",
      "coils_made_in_3: 3500.0 units\n",
      "bands_made_in_3: 1400.0 units\n",
      "bands_made_in_4: 2000.0 units\n",
      "coils_made_in_4: 4200.0 units\n",
      "bands_in_inventory_0: 10.0 units\n",
      "bands_sold_in_1: 6000.0 units\n",
      "coils_in_inventory_1: 1100.0 units\n",
      "coils_sold_in_1: 307.0 units\n",
      "bands_sold_in_2: 6000.0 units\n",
      "coils_sold_in_2: 2500.0 units\n",
      "bands_sold_in_3: 1400.0 units\n",
      "coils_sold_in_3: 3500.0 units\n",
      "bands_sold_in_4: 2000.0 units\n",
      "coils_sold_in_4: 4200.0 units\n",
      "\n",
      "zero variables: \n",
      "\n",
      "coils_in_inventory_0: 0.0 units\n",
      "bands_in_inventory_1: 0.0 units\n",
      "bands_in_inventory_2: 0.0 units\n",
      "coils_in_inventory_2: 0.0 units\n",
      "bands_in_inventory_3: 0.0 units\n",
      "coils_in_inventory_3: 0.0 units\n",
      "bands_in_inventory_4: 0.0 units\n",
      "coils_in_inventory_4: 0.0 units\n"
     ]
    }
   ],
   "source": [
    "#outputting results\n",
    "print(f\"Model: {model.name}\")\n",
    "print(\"Status:\", status)\n",
    "print(f\"Objective value: ${model.objective.value}\\n\")\n",
    "print(\"non-zero variables:\\n\")\n",
    "for var in model.variables:\n",
    "    if var.primal != 0:\n",
    "        print(f\"{var.name}: {var.primal} units\")\n",
    "print(\"\")\n",
    "print(\"zero variables: \\n\")\n",
    "for var in model.variables:\n",
    "    if var.primal == 0:\n",
    "        print(f\"{var.name}: {var.primal} units\")"
   ],
   "metadata": {
    "collapsed": false,
    "ExecuteTime": {
     "end_time": "2024-03-03T23:22:42.910076Z",
     "start_time": "2024-03-03T23:22:42.906072Z"
    }
   },
   "id": "8d885b9fb845d1e4",
   "execution_count": 22
  },
  {
   "cell_type": "markdown",
   "source": [
    "The output is identical to the AMPL textbook, hence, we assume the implementation is valid."
   ],
   "metadata": {
    "collapsed": false
   },
   "id": "21671432918e2b89"
  },
  {
   "cell_type": "code",
   "outputs": [],
   "source": [],
   "metadata": {
    "collapsed": false
   },
   "id": "92be2779cf9a01a7"
  }
 ],
 "metadata": {
  "kernelspec": {
   "display_name": "Python 3",
   "language": "python",
   "name": "python3"
  },
  "language_info": {
   "codemirror_mode": {
    "name": "ipython",
    "version": 2
   },
   "file_extension": ".py",
   "mimetype": "text/x-python",
   "name": "python",
   "nbconvert_exporter": "python",
   "pygments_lexer": "ipython2",
   "version": "2.7.6"
  }
 },
 "nbformat": 4,
 "nbformat_minor": 5
}
