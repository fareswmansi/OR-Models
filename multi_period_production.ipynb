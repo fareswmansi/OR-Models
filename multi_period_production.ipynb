{
 "cells": [
  {
   "cell_type": "code",
   "execution_count": 1,
   "id": "initial_id",
   "metadata": {
    "collapsed": true,
    "ExecuteTime": {
     "end_time": "2024-03-03T23:11:20.073908Z",
     "start_time": "2024-03-03T23:11:17.416514Z"
    }
   },
   "outputs": [
    {
     "name": "stdout",
     "output_type": "stream",
     "text": [
      "Requirement already satisfied: optlang in /Users/faresmansi/anaconda3/lib/python3.11/site-packages (1.8.1)\r\n",
      "Requirement already satisfied: six>=1.9 in /Users/faresmansi/anaconda3/lib/python3.11/site-packages (from optlang) (1.16.0)\r\n",
      "Requirement already satisfied: swiglpk>=5.0.8 in /Users/faresmansi/anaconda3/lib/python3.11/site-packages (from optlang) (5.0.10)\r\n",
      "Requirement already satisfied: sympy>=1.12.0 in /Users/faresmansi/anaconda3/lib/python3.11/site-packages (from optlang) (1.12)\r\n",
      "Requirement already satisfied: mpmath>=0.19 in /Users/faresmansi/anaconda3/lib/python3.11/site-packages (from sympy>=1.12.0->optlang) (1.2.1)\r\n",
      "Note: you may need to restart the kernel to use updated packages.\n"
     ]
    }
   ],
   "source": [
    "%pip install optlang\n",
    "from optlang import Model, Variable, Constraint, Objective\n",
    "import pandas as pd"
   ]
  },
  {
   "cell_type": "markdown",
   "source": [
    "## A Multi-Period Production Model"
   ],
   "metadata": {
    "collapsed": false
   },
   "id": "5fd6c7f09ca00fd7"
  },
  {
   "cell_type": "code",
   "outputs": [],
   "source": [
    "#creating indexes\n",
    "T = 4\n",
    "products = [\"bands\", \"coils\"]\n",
    "availability = [40, 40, 32, 40]\n",
    "time = range(1, T+1)\n",
    "#starts at t=0\n",
    "inv_time = range(0, T+1)\n",
    "\n",
    "#storing data in dictionaries\n",
    "inv_0 = {\n",
    "    \"bands\": 10, \n",
    "    \"coils\": 0\n",
    "}\n",
    "revenue = {\n",
    "    \"bands\": [25, 26, 27, 27],\n",
    "    \"coils\": [30, 35, 37, 39]\n",
    "}\n",
    "market = {\n",
    "    \"bands\": [6000, 6000, 4000, 6500],\n",
    "    \"coils\": [4000, 2500, 3500, 4200]\n",
    "}\n",
    "prod_cost = {\n",
    "    \"bands\": 10,\n",
    "    \"coils\": 11\n",
    "}\n",
    "prod_rate = {\n",
    "    \"bands\": 200,\n",
    "    \"coils\": 140\n",
    "}\n",
    "prod_inv_cost = {\n",
    "    \"bands\": 2.5,\n",
    "    \"coils\": 3\n",
    "}"
   ],
   "metadata": {
    "collapsed": false,
    "ExecuteTime": {
     "end_time": "2024-03-03T23:11:34.357901Z",
     "start_time": "2024-03-03T23:11:34.354980Z"
    }
   },
   "id": "909e9abdde58e056",
   "execution_count": 2
  },
  {
   "cell_type": "code",
   "outputs": [
    {
     "name": "stdout",
     "output_type": "stream",
     "text": [
      "revenue data frame:\n"
     ]
    },
    {
     "data": {
      "text/plain": "   bands  coils\n1     25     30\n2     26     35\n3     27     37\n4     27     39",
      "text/html": "<div>\n<style scoped>\n    .dataframe tbody tr th:only-of-type {\n        vertical-align: middle;\n    }\n\n    .dataframe tbody tr th {\n        vertical-align: top;\n    }\n\n    .dataframe thead th {\n        text-align: right;\n    }\n</style>\n<table border=\"1\" class=\"dataframe\">\n  <thead>\n    <tr style=\"text-align: right;\">\n      <th></th>\n      <th>bands</th>\n      <th>coils</th>\n    </tr>\n  </thead>\n  <tbody>\n    <tr>\n      <th>1</th>\n      <td>25</td>\n      <td>30</td>\n    </tr>\n    <tr>\n      <th>2</th>\n      <td>26</td>\n      <td>35</td>\n    </tr>\n    <tr>\n      <th>3</th>\n      <td>27</td>\n      <td>37</td>\n    </tr>\n    <tr>\n      <th>4</th>\n      <td>27</td>\n      <td>39</td>\n    </tr>\n  </tbody>\n</table>\n</div>"
     },
     "execution_count": 3,
     "metadata": {},
     "output_type": "execute_result"
    }
   ],
   "source": [
    "#creating data frames\n",
    "df_revenue = pd.DataFrame(revenue, index=time)\n",
    "df_market = pd.DataFrame(market, index=time)\n",
    "df_prod_cost = pd.DataFrame(prod_cost, index=products)\n",
    "df_prod_rate = pd.DataFrame(prod_rate, index=products)\n",
    "df_prod_inv_cost = pd.DataFrame(prod_inv_cost, index=products)\n",
    "\n",
    "print(\"revenue data frame:\")\n",
    "df_revenue"
   ],
   "metadata": {
    "collapsed": false,
    "ExecuteTime": {
     "end_time": "2024-03-03T23:11:40.065999Z",
     "start_time": "2024-03-03T23:11:40.054153Z"
    }
   },
   "id": "20eb6d004482e930",
   "execution_count": 3
  },
  {
   "cell_type": "code",
   "outputs": [
    {
     "name": "stdout",
     "output_type": "stream",
     "text": [
      "market data frame:\n"
     ]
    },
    {
     "data": {
      "text/plain": "   bands  coils\n1   6000   4000\n2   6000   2500\n3   4000   3500\n4   6500   4200",
      "text/html": "<div>\n<style scoped>\n    .dataframe tbody tr th:only-of-type {\n        vertical-align: middle;\n    }\n\n    .dataframe tbody tr th {\n        vertical-align: top;\n    }\n\n    .dataframe thead th {\n        text-align: right;\n    }\n</style>\n<table border=\"1\" class=\"dataframe\">\n  <thead>\n    <tr style=\"text-align: right;\">\n      <th></th>\n      <th>bands</th>\n      <th>coils</th>\n    </tr>\n  </thead>\n  <tbody>\n    <tr>\n      <th>1</th>\n      <td>6000</td>\n      <td>4000</td>\n    </tr>\n    <tr>\n      <th>2</th>\n      <td>6000</td>\n      <td>2500</td>\n    </tr>\n    <tr>\n      <th>3</th>\n      <td>4000</td>\n      <td>3500</td>\n    </tr>\n    <tr>\n      <th>4</th>\n      <td>6500</td>\n      <td>4200</td>\n    </tr>\n  </tbody>\n</table>\n</div>"
     },
     "execution_count": 4,
     "metadata": {},
     "output_type": "execute_result"
    }
   ],
   "source": [
    "print(\"market data frame:\")\n",
    "df_market"
   ],
   "metadata": {
    "collapsed": false,
    "ExecuteTime": {
     "end_time": "2024-03-03T23:11:45.141125Z",
     "start_time": "2024-03-03T23:11:45.135940Z"
    }
   },
   "id": "fba56b8241e7df5a",
   "execution_count": 4
  },
  {
   "cell_type": "code",
   "outputs": [],
   "source": [
    "#creating variables in dictionaries\n",
    "#specific product manufactured in specific time \n",
    "prod_made = {}\n",
    "for i in time:\n",
    "    prod_made[i] = [Variable(name=f\"{product}_made_in_{i}\", lb = 0, type='integer') for product in products]\n",
    "\n",
    "#specific product sold at specific time\n",
    "prod_sold = {}\n",
    "for i in time:\n",
    "    prod_sold[i] = [Variable(name=f\"{product}_sold_in_{i}\", lb = 0, ub=df_market.loc[i][product],type='integer') for product in products]\n",
    "\n",
    "#specific product inventoried at specific time\n",
    "prod_inventory = {}\n",
    "for i in inv_time:\n",
    "    prod_inventory[i] = [Variable(name=f\"{product}_in_inventory_{i}\", lb=0, type='integer') for product in products]\n",
    "\n",
    "#converting dictionaries to dataframes\n",
    "df_prod_made = pd.DataFrame(prod_made, index=products)\n",
    "df_prod_sold = pd.DataFrame(prod_sold, index=products)\n",
    "df_prod_inventory = pd.DataFrame(prod_inventory, index=products)"
   ],
   "metadata": {
    "collapsed": false,
    "ExecuteTime": {
     "end_time": "2024-03-03T23:11:53.878224Z",
     "start_time": "2024-03-03T23:11:53.875900Z"
    }
   },
   "id": "dd33ea650a0c5715",
   "execution_count": 5
  },
  {
   "cell_type": "code",
   "outputs": [],
   "source": [
    "#making constraints\n",
    "constraints = []\n",
    "\n",
    "#time constraint\n",
    "constraints.append(list(Constraint(\n",
    "    expression = sum((1/df_prod_rate.loc[product][product])*df_prod_made.loc[product][i] for product in products), \n",
    "    name=f\"time_constraint_for_time_{i}\",\n",
    "    ub = availability[i-1]\n",
    ") for i in time))\n",
    "\n",
    "#initial inventory constraints\n",
    "constraints.append(list(Constraint(\n",
    "    expression=df_prod_inventory.loc[product][0],\n",
    "    name = f\"initial_inventory_constraint_for_product_{product}\",\n",
    "    ub=inv_0[product], lb =inv_0[product]\n",
    ") for product in products))\n",
    "\n",
    "#balance constraint\n",
    "constraints.append(list(Constraint(\n",
    "    expression=df_prod_made.loc[product][i] + df_prod_inventory.loc[product][i-1] - df_prod_sold.loc[product][i] - df_prod_inventory.loc[product][i], name=f\"balance_constraint_for_time_{i}_product_{product}\",\n",
    "     ub = 0, lb = 0\n",
    ") for i in time for product in products))"
   ],
   "metadata": {
    "collapsed": false,
    "ExecuteTime": {
     "end_time": "2024-03-03T23:12:02.835546Z",
     "start_time": "2024-03-03T23:12:02.809013Z"
    }
   },
   "id": "7fdf681590c72080",
   "execution_count": 6
  },
  {
   "cell_type": "code",
   "outputs": [],
   "source": [
    "#creating objective function\n",
    "objective = sum(df_revenue.loc[i][product]*df_prod_sold.loc[product][i] - df_prod_cost.loc[product][product]*df_prod_made.loc[product][i] - df_prod_inv_cost[product][product]*df_prod_inventory.loc[product][i] for product in products for i in time)\n",
    "\n",
    "#creating model, adding obj and constraints and optimizing\n",
    "model = Model(name=\"multi_period_production\")\n",
    "model.add(constraints)\n",
    "model.objective = Objective(expression= objective, direction='max')\n",
    "status = model.optimize()\n",
    "\n",
    "#seperating zero and non zero variables from optimal model\n",
    "zero_vars = list(f\"{var.name}: {var.primal}\" for var in model.variables if var.primal == 0)\n",
    "non_zero_vars = {\n",
    "    \"produced\": list(f\"{var.name}: {var.primal}\" for var in model.variables for product in products for i in time if var.primal != 0 if var.name == f\"{product}_made_in_{i}\"),\n",
    "    \"sold\": list(f\"{var.name}: {var.primal}\" for var in model.variables for product in products for i in time if var.primal != 0 if var.name == f\"{product}_sold_in_{i}\"),\n",
    "    \"inventory\": list(f\"{var.name}: {var.primal}\" for var in model.variables for product in products for i in inv_time if var.primal != 0 if var.name == f\"{product}_in_inventory_{i}\")\n",
    "}"
   ],
   "metadata": {
    "collapsed": false,
    "ExecuteTime": {
     "end_time": "2024-03-03T23:12:08.829022Z",
     "start_time": "2024-03-03T23:12:08.827218Z"
    }
   },
   "id": "295111f2834cc1aa",
   "execution_count": 7
  },
  {
   "cell_type": "code",
   "outputs": [
    {
     "name": "stdout",
     "output_type": "stream",
     "text": [
      "Model: multi_period_production\n",
      "Status: optimal\n",
      "Objective value: $515033.0\n",
      "\n",
      "non-zero variables:\n",
      "\n",
      "produced:\n",
      "['coils_made_in_1: 1407.0', 'bands_made_in_1: 5990.0', 'coils_made_in_2: 1400.0', 'bands_made_in_2: 6000.0', 'coils_made_in_3: 3500.0', 'bands_made_in_3: 1400.0', 'bands_made_in_4: 2000.0', 'coils_made_in_4: 4200.0'] \n",
      "\n",
      "sold:\n",
      "['bands_sold_in_1: 6000.0', 'coils_sold_in_1: 307.0', 'bands_sold_in_2: 6000.0', 'coils_sold_in_2: 2500.0', 'bands_sold_in_3: 1400.0', 'coils_sold_in_3: 3500.0', 'bands_sold_in_4: 2000.0', 'coils_sold_in_4: 4200.0'] \n",
      "\n",
      "inventoried: \n",
      "['bands_in_inventory_0: 10.0', 'coils_in_inventory_1: 1100.0'] \n",
      "\n",
      "zero variables:\n",
      "\n",
      "coils_in_inventory_0: 0.0\n",
      "bands_in_inventory_1: 0.0\n",
      "bands_in_inventory_2: 0.0\n",
      "coils_in_inventory_2: 0.0\n",
      "bands_in_inventory_3: 0.0\n",
      "coils_in_inventory_3: 0.0\n",
      "bands_in_inventory_4: 0.0\n",
      "coils_in_inventory_4: 0.0\n"
     ]
    }
   ],
   "source": [
    "#outputting results\n",
    "print(f\"Model: {model.name}\")\n",
    "print(\"Status:\", status)\n",
    "print(f\"Objective value: ${model.objective.value}\\n\")\n",
    "print(\"non-zero variables:\\n\")\n",
    "print(\"produced:\")\n",
    "print(non_zero_vars[\"produced\"], \"\\n\")\n",
    "print(\"sold:\")\n",
    "print(non_zero_vars[\"sold\"], \"\\n\")\n",
    "print(\"inventoried: \")\n",
    "print(non_zero_vars[\"inventory\"], \"\\n\")\n",
    "print(\"zero variables:\\n\")\n",
    "for var in zero_vars:\n",
    "    print(var)"
   ],
   "metadata": {
    "collapsed": false,
    "ExecuteTime": {
     "end_time": "2024-03-03T23:12:13.524785Z",
     "start_time": "2024-03-03T23:12:13.519864Z"
    }
   },
   "id": "8d885b9fb845d1e4",
   "execution_count": 8
  },
  {
   "cell_type": "markdown",
   "source": [
    "The output is identical to the AMPL textbook, hence, we assume the implementation is valid."
   ],
   "metadata": {
    "collapsed": false
   },
   "id": "21671432918e2b89"
  },
  {
   "cell_type": "code",
   "outputs": [],
   "source": [],
   "metadata": {
    "collapsed": false
   },
   "id": "92be2779cf9a01a7"
  }
 ],
 "metadata": {
  "kernelspec": {
   "display_name": "Python 3",
   "language": "python",
   "name": "python3"
  },
  "language_info": {
   "codemirror_mode": {
    "name": "ipython",
    "version": 2
   },
   "file_extension": ".py",
   "mimetype": "text/x-python",
   "name": "python",
   "nbconvert_exporter": "python",
   "pygments_lexer": "ipython2",
   "version": "2.7.6"
  }
 },
 "nbformat": 4,
 "nbformat_minor": 5
}
