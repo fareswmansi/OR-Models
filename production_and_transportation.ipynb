{
 "cells": [
  {
   "cell_type": "code",
   "execution_count": 1,
   "id": "initial_id",
   "metadata": {
    "collapsed": true,
    "ExecuteTime": {
     "end_time": "2024-03-03T23:13:18.197467Z",
     "start_time": "2024-03-03T23:13:15.334593Z"
    }
   },
   "outputs": [
    {
     "name": "stdout",
     "output_type": "stream",
     "text": [
      "Requirement already satisfied: optlang in /Users/faresmansi/anaconda3/lib/python3.11/site-packages (1.8.1)\r\n",
      "Requirement already satisfied: six>=1.9 in /Users/faresmansi/anaconda3/lib/python3.11/site-packages (from optlang) (1.16.0)\r\n",
      "Requirement already satisfied: swiglpk>=5.0.8 in /Users/faresmansi/anaconda3/lib/python3.11/site-packages (from optlang) (5.0.10)\r\n",
      "Requirement already satisfied: sympy>=1.12.0 in /Users/faresmansi/anaconda3/lib/python3.11/site-packages (from optlang) (1.12)\r\n",
      "Requirement already satisfied: mpmath>=0.19 in /Users/faresmansi/anaconda3/lib/python3.11/site-packages (from sympy>=1.12.0->optlang) (1.2.1)\r\n",
      "Note: you may need to restart the kernel to use updated packages.\n"
     ]
    }
   ],
   "source": [
    "%pip install optlang\n",
    "from optlang import Model, Variable, Constraint, Objective\n",
    "import pandas as pd"
   ]
  },
  {
   "cell_type": "markdown",
   "source": [
    "## A Model of Production and Transportation"
   ],
   "metadata": {
    "collapsed": false
   },
   "id": "2dc6cb0a7e295952"
  },
  {
   "cell_type": "code",
   "outputs": [],
   "source": [
    "#creating indexes\n",
    "origins = [\"GARY\", \"CLEV\", \"PITT\"]\n",
    "dests = [\"FRA\", \"DET\", \"LAN\", \"WIN\", \"STL\", \"FRE\", \"LAF\"]\n",
    "prods = [\"bands\", \"coils\", \"plate\"]\n",
    "\n",
    "#storing data in dictionaries\n",
    "availability = {\n",
    "    \"GARY\": 20, \n",
    "    \"CLEV\": 15, \n",
    "    \"PITT\": 20\n",
    "}\n",
    "demand = {\n",
    "    \"FRA\": [300, 500, 100],\n",
    "    \"DET\": [300, 750, 100],\n",
    "    \"LAN\": [100, 400, 0],\n",
    "    \"WIN\": [75, 250, 50],\n",
    "    \"STL\": [650, 950, 200],\n",
    "    \"FRE\": [225, 850, 100],\n",
    "    \"LAF\": [250, 500, 250]\n",
    "}\n",
    "rate = {\n",
    "    \"GARY\": [200, 140, 160], \n",
    "    \"CLEV\": [190, 130, 160], \n",
    "    \"PITT\": [230, 160, 170]\n",
    "}\n",
    "make_cost = {\n",
    "    \"GARY\": [180, 170, 180],\n",
    "    \"CLEV\": [190, 170, 185],\n",
    "    \"PITT\": [190, 180, 185]\n",
    "}\n",
    "trans_cost_bands = {\n",
    "    \"FRA\": [30, 22, 19],\n",
    "    \"DET\": [10, 7, 11],\n",
    "    \"LAN\": [8, 10, 12],\n",
    "    \"WIN\": [10, 7, 10],\n",
    "    \"STL\": [11, 21, 25],\n",
    "    \"FRE\": [71, 82, 83],\n",
    "    \"LAF\": [6, 13, 15]\n",
    "}\n",
    "trans_cost_coils = {\n",
    "    \"FRA\": [39, 27, 24],\n",
    "    \"DET\": [14, 9, 14],\n",
    "    \"LAN\": [11, 12, 17],\n",
    "    \"WIN\": [14, 9, 13],\n",
    "    \"STL\": [16, 26, 28],\n",
    "    \"FRE\": [82, 95, 99],\n",
    "    \"LAF\": [8, 17, 20]\n",
    "}\n",
    "trans_cost_plate = {\n",
    "    \"FRA\": [41, 29, 26],\n",
    "    \"DET\": [15, 9, 14],\n",
    "    \"LAN\": [12, 13, 17],\n",
    "    \"WIN\": [16, 9, 13],\n",
    "    \"STL\": [17, 28, 31],\n",
    "    \"FRE\": [86, 99, 104],\n",
    "    \"LAF\": [8, 18, 20]\n",
    "}"
   ],
   "metadata": {
    "collapsed": false,
    "ExecuteTime": {
     "end_time": "2024-03-03T23:14:18.757245Z",
     "start_time": "2024-03-03T23:14:18.754642Z"
    }
   },
   "id": "fc55837f167db39b",
   "execution_count": 2
  },
  {
   "cell_type": "code",
   "outputs": [
    {
     "name": "stdout",
     "output_type": "stream",
     "text": [
      "cost 3D dataframe:\n"
     ]
    },
    {
     "data": {
      "text/plain": "            FRA  DET  LAN  WIN  STL  FRE  LAF\nbands GARY   30   10    8   10   11   71    6\n      CLEV   22    7   10    7   21   82   13\n      PITT   19   11   12   10   25   83   15\ncoils GARY   39   14   11   14   16   82    8\n      CLEV   27    9   12    9   26   95   17\n      PITT   24   14   17   13   28   99   20\nplate GARY   41   15   12   16   17   86    8\n      CLEV   29    9   13    9   28   99   18\n      PITT   26   14   17   13   31  104   20",
      "text/html": "<div>\n<style scoped>\n    .dataframe tbody tr th:only-of-type {\n        vertical-align: middle;\n    }\n\n    .dataframe tbody tr th {\n        vertical-align: top;\n    }\n\n    .dataframe thead th {\n        text-align: right;\n    }\n</style>\n<table border=\"1\" class=\"dataframe\">\n  <thead>\n    <tr style=\"text-align: right;\">\n      <th></th>\n      <th></th>\n      <th>FRA</th>\n      <th>DET</th>\n      <th>LAN</th>\n      <th>WIN</th>\n      <th>STL</th>\n      <th>FRE</th>\n      <th>LAF</th>\n    </tr>\n  </thead>\n  <tbody>\n    <tr>\n      <th rowspan=\"3\" valign=\"top\">bands</th>\n      <th>GARY</th>\n      <td>30</td>\n      <td>10</td>\n      <td>8</td>\n      <td>10</td>\n      <td>11</td>\n      <td>71</td>\n      <td>6</td>\n    </tr>\n    <tr>\n      <th>CLEV</th>\n      <td>22</td>\n      <td>7</td>\n      <td>10</td>\n      <td>7</td>\n      <td>21</td>\n      <td>82</td>\n      <td>13</td>\n    </tr>\n    <tr>\n      <th>PITT</th>\n      <td>19</td>\n      <td>11</td>\n      <td>12</td>\n      <td>10</td>\n      <td>25</td>\n      <td>83</td>\n      <td>15</td>\n    </tr>\n    <tr>\n      <th rowspan=\"3\" valign=\"top\">coils</th>\n      <th>GARY</th>\n      <td>39</td>\n      <td>14</td>\n      <td>11</td>\n      <td>14</td>\n      <td>16</td>\n      <td>82</td>\n      <td>8</td>\n    </tr>\n    <tr>\n      <th>CLEV</th>\n      <td>27</td>\n      <td>9</td>\n      <td>12</td>\n      <td>9</td>\n      <td>26</td>\n      <td>95</td>\n      <td>17</td>\n    </tr>\n    <tr>\n      <th>PITT</th>\n      <td>24</td>\n      <td>14</td>\n      <td>17</td>\n      <td>13</td>\n      <td>28</td>\n      <td>99</td>\n      <td>20</td>\n    </tr>\n    <tr>\n      <th rowspan=\"3\" valign=\"top\">plate</th>\n      <th>GARY</th>\n      <td>41</td>\n      <td>15</td>\n      <td>12</td>\n      <td>16</td>\n      <td>17</td>\n      <td>86</td>\n      <td>8</td>\n    </tr>\n    <tr>\n      <th>CLEV</th>\n      <td>29</td>\n      <td>9</td>\n      <td>13</td>\n      <td>9</td>\n      <td>28</td>\n      <td>99</td>\n      <td>18</td>\n    </tr>\n    <tr>\n      <th>PITT</th>\n      <td>26</td>\n      <td>14</td>\n      <td>17</td>\n      <td>13</td>\n      <td>31</td>\n      <td>104</td>\n      <td>20</td>\n    </tr>\n  </tbody>\n</table>\n</div>"
     },
     "execution_count": 3,
     "metadata": {},
     "output_type": "execute_result"
    }
   ],
   "source": [
    "#creating data frames for data\n",
    "df_demand = pd.DataFrame(demand, index=prods)\n",
    "df_rate = pd.DataFrame(rate, index=prods)\n",
    "df_make_cost = pd.DataFrame(make_cost, index=prods)\n",
    "df_trans_cost_bands = pd.DataFrame(trans_cost_bands, index=origins)\n",
    "df_trans_cost_coils = pd.DataFrame(trans_cost_coils, index=origins)\n",
    "df_trans_cost_plate = pd.DataFrame(trans_cost_plate, index=origins)\n",
    "df_cost = pd.concat((df_trans_cost_bands,df_trans_cost_coils,df_trans_cost_plate),keys=prods,axis=0)\n",
    "\n",
    "print(\"cost 3D dataframe:\")\n",
    "df_cost"
   ],
   "metadata": {
    "collapsed": false,
    "ExecuteTime": {
     "end_time": "2024-03-03T23:14:19.234612Z",
     "start_time": "2024-03-03T23:14:19.190158Z"
    }
   },
   "id": "eeba6fcb648ab348",
   "execution_count": 3
  },
  {
   "cell_type": "code",
   "outputs": [
    {
     "name": "stdout",
     "output_type": "stream",
     "text": [
      "rate dataframe:\n"
     ]
    },
    {
     "data": {
      "text/plain": "       GARY  CLEV  PITT\nbands   200   190   230\ncoils   140   130   160\nplate   160   160   170",
      "text/html": "<div>\n<style scoped>\n    .dataframe tbody tr th:only-of-type {\n        vertical-align: middle;\n    }\n\n    .dataframe tbody tr th {\n        vertical-align: top;\n    }\n\n    .dataframe thead th {\n        text-align: right;\n    }\n</style>\n<table border=\"1\" class=\"dataframe\">\n  <thead>\n    <tr style=\"text-align: right;\">\n      <th></th>\n      <th>GARY</th>\n      <th>CLEV</th>\n      <th>PITT</th>\n    </tr>\n  </thead>\n  <tbody>\n    <tr>\n      <th>bands</th>\n      <td>200</td>\n      <td>190</td>\n      <td>230</td>\n    </tr>\n    <tr>\n      <th>coils</th>\n      <td>140</td>\n      <td>130</td>\n      <td>160</td>\n    </tr>\n    <tr>\n      <th>plate</th>\n      <td>160</td>\n      <td>160</td>\n      <td>170</td>\n    </tr>\n  </tbody>\n</table>\n</div>"
     },
     "execution_count": 4,
     "metadata": {},
     "output_type": "execute_result"
    }
   ],
   "source": [
    "print(\"rate dataframe:\")\n",
    "df_rate"
   ],
   "metadata": {
    "collapsed": false,
    "ExecuteTime": {
     "end_time": "2024-03-03T23:14:19.676048Z",
     "start_time": "2024-03-03T23:14:19.671727Z"
    }
   },
   "id": "40c534cbf8f31cc7",
   "execution_count": 4
  },
  {
   "cell_type": "code",
   "outputs": [
    {
     "name": "stdout",
     "output_type": "stream",
     "text": [
      "demand dataframe:\n"
     ]
    },
    {
     "data": {
      "text/plain": "       FRA  DET  LAN  WIN  STL  FRE  LAF\nbands  300  300  100   75  650  225  250\ncoils  500  750  400  250  950  850  500\nplate  100  100    0   50  200  100  250",
      "text/html": "<div>\n<style scoped>\n    .dataframe tbody tr th:only-of-type {\n        vertical-align: middle;\n    }\n\n    .dataframe tbody tr th {\n        vertical-align: top;\n    }\n\n    .dataframe thead th {\n        text-align: right;\n    }\n</style>\n<table border=\"1\" class=\"dataframe\">\n  <thead>\n    <tr style=\"text-align: right;\">\n      <th></th>\n      <th>FRA</th>\n      <th>DET</th>\n      <th>LAN</th>\n      <th>WIN</th>\n      <th>STL</th>\n      <th>FRE</th>\n      <th>LAF</th>\n    </tr>\n  </thead>\n  <tbody>\n    <tr>\n      <th>bands</th>\n      <td>300</td>\n      <td>300</td>\n      <td>100</td>\n      <td>75</td>\n      <td>650</td>\n      <td>225</td>\n      <td>250</td>\n    </tr>\n    <tr>\n      <th>coils</th>\n      <td>500</td>\n      <td>750</td>\n      <td>400</td>\n      <td>250</td>\n      <td>950</td>\n      <td>850</td>\n      <td>500</td>\n    </tr>\n    <tr>\n      <th>plate</th>\n      <td>100</td>\n      <td>100</td>\n      <td>0</td>\n      <td>50</td>\n      <td>200</td>\n      <td>100</td>\n      <td>250</td>\n    </tr>\n  </tbody>\n</table>\n</div>"
     },
     "execution_count": 5,
     "metadata": {},
     "output_type": "execute_result"
    }
   ],
   "source": [
    "print(f\"demand dataframe:\")\n",
    "df_demand"
   ],
   "metadata": {
    "collapsed": false,
    "ExecuteTime": {
     "end_time": "2024-03-03T23:14:20.229140Z",
     "start_time": "2024-03-03T23:14:20.222712Z"
    }
   },
   "id": "d7787fe87bd5cfb8",
   "execution_count": 5
  },
  {
   "cell_type": "code",
   "outputs": [],
   "source": [
    "#creating variables in dictionaries\n",
    "#products manufactured in origin location\n",
    "prod_made = {}\n",
    "for origin in origins:\n",
    "    prod_made[origin] = [Variable(name=f\"{prod}_made_in_{origin}\", lb = 0, type='integer') for prod in prods]\n",
    "\n",
    "#products shipped from gary to destination\n",
    "trans_gary = {}\n",
    "for dest in dests:\n",
    "    trans_gary[dest] = [Variable(name=f\"{prod}_shipped_from_gary_to_{dest}\", lb = 0, type='integer') for prod in prods]\n",
    "\n",
    "#products shipped from clev to destination\n",
    "trans_clev = {}\n",
    "for dest in dests:\n",
    "    trans_clev[dest] = [Variable(name=f\"{prod}_shipped_from_clev_to_{dest}\", lb = 0, type='integer') for prod in prods]\n",
    "\n",
    "#products shipped from pitt to destination\n",
    "trans_pitt = {}\n",
    "for dest in dests:\n",
    "    trans_pitt[dest] = [Variable(name=f\"{prod}_shipped_from_pitt_to_{dest}\", lb = 0, type='integer') for prod in prods]\n",
    "\n",
    "#converting dictionaries to dataframes\n",
    "df_prod_made = pd.DataFrame(prod_made, index=prods)\n",
    "df_trans_gary = pd.DataFrame(trans_gary, index=prods)\n",
    "df_trans_clev = pd.DataFrame(trans_clev, index=prods)\n",
    "df_trans_pitt = pd.DataFrame(trans_pitt, index=prods)\n",
    "#3D dataframe for specific products shipped from specific origin shipped to specific destination\n",
    "df_trans = pd.concat([df_trans_gary, df_trans_clev, df_trans_pitt], keys=origins)"
   ],
   "metadata": {
    "collapsed": false,
    "ExecuteTime": {
     "end_time": "2024-03-03T23:14:20.671788Z",
     "start_time": "2024-03-03T23:14:20.669767Z"
    }
   },
   "id": "a7bf256170a0af90",
   "execution_count": 6
  },
  {
   "cell_type": "code",
   "outputs": [],
   "source": [
    "#making constraints\n",
    "constraints = []\n",
    "\n",
    "#time constraint\n",
    "constraints.append(list(Constraint(\n",
    "    expression=sum((1/df_rate.loc[prod][origin])*df_prod_made.loc[prod][origin] for prod in prods), \n",
    "    name=f\"{origin}_time_constraint\",\n",
    "    ub = availability[origin] \n",
    ") for origin in origins))\n",
    "    \n",
    "#supply constraint  \n",
    "constraints.append(list(Constraint(\n",
    "    expression=sum(df_trans.loc[origin][dest][prod] for dest in dests) - df_prod_made.loc[prod][origin], \n",
    "    name=f\"supply_constraint_for_{prod}_from_{origin}\",\n",
    "    lb = 0, ub = 0\n",
    ") for origin in origins for prod in prods))\n",
    "\n",
    "#demand constraint       \n",
    "constraints.append(list(Constraint(\n",
    "     expression=sum(df_trans.loc[origin][dest][prod] for origin in origins) - df_demand.loc[prod][dest], \n",
    "     name=f\"demand_constraint_for_{prod}_{dest}\",\n",
    "     lb = 0, ub = 0\n",
    ") for dest in dests for prod in prods))"
   ],
   "metadata": {
    "collapsed": false,
    "ExecuteTime": {
     "end_time": "2024-03-03T23:14:21.180314Z",
     "start_time": "2024-03-03T23:14:21.134739Z"
    }
   },
   "id": "554fadbc3a4fcdb3",
   "execution_count": 7
  },
  {
   "cell_type": "code",
   "outputs": [
    {
     "name": "stdout",
     "output_type": "stream",
     "text": [
      "Model: production_and_transportation\n",
      "Status: optimal\n",
      "Objective value: $1392175.0\n",
      "\n",
      "non-zero variables: \n",
      "plate_made_in_GARY : 300.0 units\n",
      "bands_made_in_GARY : 1125.0 units\n",
      "coils_made_in_GARY : 1750.0 units\n",
      "coils_made_in_CLEV : 1950.0 units\n",
      "bands_made_in_PITT : 775.0 units\n",
      "plate_made_in_PITT : 500.0 units\n",
      "coils_made_in_PITT : 500.0 units\n",
      "bands_shipped_from_gary_to_LAF : 250.0 units\n",
      "bands_shipped_from_gary_to_STL : 650.0 units\n",
      "bands_shipped_from_gary_to_FRE : 225.0 units\n",
      "coils_shipped_from_gary_to_FRE : 850.0 units\n",
      "coils_shipped_from_gary_to_STL : 900.0 units\n",
      "plate_shipped_from_gary_to_STL : 200.0 units\n",
      "plate_shipped_from_gary_to_FRE : 100.0 units\n",
      "coils_shipped_from_clev_to_STL : 50.0 units\n",
      "coils_shipped_from_clev_to_WIN : 250.0 units\n",
      "coils_shipped_from_clev_to_LAF : 500.0 units\n",
      "coils_shipped_from_clev_to_DET : 750.0 units\n",
      "coils_shipped_from_clev_to_LAN : 400.0 units\n",
      "bands_shipped_from_pitt_to_FRA : 300.0 units\n",
      "bands_shipped_from_pitt_to_DET : 300.0 units\n",
      "bands_shipped_from_pitt_to_WIN : 75.0 units\n",
      "bands_shipped_from_pitt_to_LAN : 100.0 units\n",
      "coils_shipped_from_pitt_to_FRA : 500.0 units\n",
      "plate_shipped_from_pitt_to_FRA : 100.0 units\n",
      "plate_shipped_from_pitt_to_DET : 100.0 units\n",
      "plate_shipped_from_pitt_to_WIN : 50.0 units\n",
      "plate_shipped_from_pitt_to_LAF : 250.0 units\n",
      "\n",
      "zero variables: \n",
      "plate_made_in_CLEV : 0.0 units\n",
      "bands_made_in_CLEV : 0.0 units\n",
      "bands_shipped_from_gary_to_FRA : 0.0 units\n",
      "bands_shipped_from_gary_to_WIN : 0.0 units\n",
      "bands_shipped_from_gary_to_LAN : 0.0 units\n",
      "bands_shipped_from_gary_to_DET : 0.0 units\n",
      "coils_shipped_from_gary_to_LAF : 0.0 units\n",
      "coils_shipped_from_gary_to_LAN : 0.0 units\n",
      "coils_shipped_from_gary_to_WIN : 0.0 units\n",
      "coils_shipped_from_gary_to_FRA : 0.0 units\n",
      "coils_shipped_from_gary_to_DET : 0.0 units\n",
      "plate_shipped_from_gary_to_FRA : 0.0 units\n",
      "plate_shipped_from_gary_to_WIN : 0.0 units\n",
      "plate_shipped_from_gary_to_DET : 0.0 units\n",
      "plate_shipped_from_gary_to_LAN : 0.0 units\n",
      "plate_shipped_from_gary_to_LAF : 0.0 units\n",
      "bands_shipped_from_clev_to_DET : 0.0 units\n",
      "bands_shipped_from_clev_to_WIN : 0.0 units\n",
      "bands_shipped_from_clev_to_FRA : 0.0 units\n",
      "bands_shipped_from_clev_to_LAN : 0.0 units\n",
      "bands_shipped_from_clev_to_LAF : 0.0 units\n",
      "bands_shipped_from_clev_to_FRE : 0.0 units\n",
      "bands_shipped_from_clev_to_STL : 0.0 units\n",
      "coils_shipped_from_clev_to_FRE : 0.0 units\n",
      "coils_shipped_from_clev_to_FRA : 0.0 units\n",
      "plate_shipped_from_clev_to_FRA : 0.0 units\n",
      "plate_shipped_from_clev_to_STL : 0.0 units\n",
      "plate_shipped_from_clev_to_DET : 0.0 units\n",
      "plate_shipped_from_clev_to_FRE : 0.0 units\n",
      "plate_shipped_from_clev_to_LAN : 0.0 units\n",
      "plate_shipped_from_clev_to_LAF : 0.0 units\n",
      "plate_shipped_from_clev_to_WIN : 0.0 units\n",
      "bands_shipped_from_pitt_to_FRE : 0.0 units\n",
      "bands_shipped_from_pitt_to_STL : 0.0 units\n",
      "bands_shipped_from_pitt_to_LAF : 0.0 units\n",
      "coils_shipped_from_pitt_to_LAN : 0.0 units\n",
      "coils_shipped_from_pitt_to_FRE : 0.0 units\n",
      "coils_shipped_from_pitt_to_STL : 0.0 units\n",
      "coils_shipped_from_pitt_to_LAF : 0.0 units\n",
      "coils_shipped_from_pitt_to_DET : 0.0 units\n",
      "coils_shipped_from_pitt_to_WIN : 0.0 units\n",
      "plate_shipped_from_pitt_to_FRE : 0.0 units\n",
      "plate_shipped_from_pitt_to_LAN : 0.0 units\n",
      "plate_shipped_from_pitt_to_STL : 0.0 units\n"
     ]
    }
   ],
   "source": [
    "#creating objective function \n",
    "objective = sum(df_make_cost.loc[prod][origin] * df_prod_made.loc[prod][origin] for origin in origins for prod in prods) + sum(df_cost.loc[prod][dest][origin] * df_trans.loc[origin][dest][prod] for origin in origins for dest in dests for prod in prods)\n",
    "\n",
    "#assembling model and finding optimal solution\n",
    "model = Model(name=\"production_and_transportation\")\n",
    "model.add(constraints)\n",
    "model.objective = Objective(expression= objective, direction=\"min\")\n",
    "\n",
    "#optimizing and printing output\n",
    "print(f\"Model: {model.name}\")\n",
    "status = model.optimize()\n",
    "print(\"Status:\", status)\n",
    "print(f\"Objective value: ${model.objective.value}\\n\")\n",
    "print(\"non-zero variables: \")\n",
    "for var in model.variables:\n",
    "    if var.primal != 0:\n",
    "        print(var.name, f\": {var.primal} units\")\n",
    "print(\"\")\n",
    "print(\"zero variables: \")\n",
    "for var in model.variables:\n",
    "    if var.primal == 0:\n",
    "        print(var.name, f\": {var.primal} units\")"
   ],
   "metadata": {
    "collapsed": false,
    "ExecuteTime": {
     "end_time": "2024-03-03T23:14:21.794007Z",
     "start_time": "2024-03-03T23:14:21.715689Z"
    }
   },
   "id": "2482c59e2dba4311",
   "execution_count": 8
  },
  {
   "cell_type": "markdown",
   "source": [
    "As we can see, the output is identical to the AMPL textbook, hence, we assume the implementation is correct."
   ],
   "metadata": {
    "collapsed": false
   },
   "id": "2447d88e7cc14dc3"
  }
 ],
 "metadata": {
  "kernelspec": {
   "display_name": "Python 3",
   "language": "python",
   "name": "python3"
  },
  "language_info": {
   "codemirror_mode": {
    "name": "ipython",
    "version": 2
   },
   "file_extension": ".py",
   "mimetype": "text/x-python",
   "name": "python",
   "nbconvert_exporter": "python",
   "pygments_lexer": "ipython2",
   "version": "2.7.6"
  }
 },
 "nbformat": 4,
 "nbformat_minor": 5
}
